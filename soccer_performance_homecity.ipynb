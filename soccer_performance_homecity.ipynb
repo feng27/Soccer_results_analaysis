{
 "cells": [
  {
   "cell_type": "markdown",
   "metadata": {},
   "source": [
    "# try to understand whether the location affects the game results"
   ]
  },
  {
   "cell_type": "markdown",
   "metadata": {},
   "source": [
    "Target Functions:\n",
    "1. Analyse which City has the most preferred home-game field for each team\n",
    "2. Analyse team performance related to city\n",
    "3. Is Continent a factor that affect home/away team performance?"
   ]
  },
  {
   "cell_type": "markdown",
   "metadata": {},
   "source": [
    "Features to be added in the future\n",
    "1. relate City with Altitude\n",
    "2. relate City with Season (Latitude and month)\n",
    "3. ..."
   ]
  },
  {
   "cell_type": "code",
   "execution_count": 55,
   "metadata": {},
   "outputs": [],
   "source": [
    "#import necessary libraries\n",
    "\n",
    "import numpy as np\n",
    "import pandas as pd\n",
    "import matplotlib.pyplot as plt\n",
    "import seaborn as sns"
   ]
  },
  {
   "cell_type": "code",
   "execution_count": 56,
   "metadata": {},
   "outputs": [],
   "source": [
    "#read data\n",
    "data_df=pd.read_csv(\"01_data/soccer_results.csv\")"
   ]
  },
  {
   "cell_type": "code",
   "execution_count": 57,
   "metadata": {},
   "outputs": [],
   "source": [
    "#define a function to convert data format to year/month/day and append to the dataframe\n",
    "def convert_date(df, col='date'):\n",
    "    ''' converte data format to year/month/day\n",
    "    \n",
    "    \n",
    "    INPUT:\n",
    "    a dataframe with yyyy-mm-dd data format in colume='col'\n",
    "    \n",
    "    OUTPUT:\n",
    "    a dataframe appended 'year','month', and 'day'\n",
    "    \n",
    "    '''\n",
    "    \n",
    "    df['year']=pd.to_datetime(df[col]).dt.year\n",
    "    df['month']=pd.to_datetime(df[col]).dt.month\n",
    "    df['day']=pd.to_datetime(df[col]).dt.day\n",
    "    \n",
    "    return df"
   ]
  },
  {
   "cell_type": "code",
   "execution_count": 58,
   "metadata": {},
   "outputs": [],
   "source": [
    "#define a function to determin winning team\n",
    "def home_win(home_away_list, flag):\n",
    "    ''' Determine which if the home team wins the game by comparing home_score vs away_score\n",
    "    \n",
    "    INPUT:\n",
    "    list of ['home_team','away_team','home_score','away_score']\n",
    "    \n",
    "    OUTPUT:\n",
    "\n",
    "    if flag = 0\n",
    "    2 - home win\n",
    "    1 - tie\n",
    "    0 - home lose\n",
    "\n",
    "    if flag = 1\n",
    "    name of the win team\n",
    "    \n",
    "    if flag = 2\n",
    "    name of the lose team\n",
    "\n",
    "    '''\n",
    "    home_team = home_away_list[0]\n",
    "    away_team = home_away_list[1]\n",
    "    home_score = home_away_list[2]\n",
    "    away_score = home_away_list[3]\n",
    "    \n",
    "    if home_score - away_score > 0:         # home team win\n",
    "        return [2,home_team,away_team][flag]\n",
    "    elif home_score - away_score == 0:      # tie\n",
    "        return [1,\"no_team\",\"no_team\"][flag]\n",
    "    else:                                   # away team win\n",
    "        return [0,away_team,home_team][flag]"
   ]
  },
  {
   "cell_type": "code",
   "execution_count": 59,
   "metadata": {},
   "outputs": [],
   "source": [
    "#define a function to add home/win team\n",
    "\n",
    "def determine_win_team(df):\n",
    "    '''determin the winning team in the database\n",
    "    it calls the function home_win\n",
    "    \n",
    "    INPUT:\n",
    "    a dataframe with 'home_team','away_team','home_score',and 'away_score'\n",
    "    \n",
    "    OUTPUT:\n",
    "    a dataframe appended 'home_win_flag','win_team', and 'lose_team'\n",
    "    \n",
    "    '''\n",
    "    df['home_win_flag'] = df[['home_team','away_team','home_score','away_score']].apply(home_win, args=(0,), axis=1)\n",
    "    df['win_team'] = df[['home_team','away_team','home_score','away_score']].apply(home_win, args=(1,), axis=1)\n",
    "    df['lose_team'] = df[['home_team','away_team','home_score','away_score']].apply(home_win, args=(2,), axis=1)\n",
    "\n",
    "    return df"
   ]
  },
  {
   "cell_type": "code",
   "execution_count": 60,
   "metadata": {},
   "outputs": [],
   "source": [
    "data_df=convert_date(data_df)"
   ]
  },
  {
   "cell_type": "code",
   "execution_count": 61,
   "metadata": {},
   "outputs": [],
   "source": [
    "data_df_complete = determine_win_team(data_df)"
   ]
  },
  {
   "cell_type": "code",
   "execution_count": 62,
   "metadata": {},
   "outputs": [
    {
     "data": {
      "text/plain": [
       "London            336\n",
       "Manchester         24\n",
       "Liverpool          21\n",
       "Birmingham         10\n",
       "Sunderland          7\n",
       "Newcastle           7\n",
       "Sheffield           7\n",
       "Blackburn           5\n",
       "Middlesbrough       4\n",
       "Wolverhampton       4\n",
       "Leeds               3\n",
       "Stoke-on-Trent      3\n",
       "Derby               3\n",
       "Nottingham          2\n",
       "West Bromwich       2\n",
       "Southampton         2\n",
       "Bristol             2\n",
       "Huddersfield        1\n",
       "Bradford            1\n",
       "Portsmouth          1\n",
       "Ipswich             1\n",
       "Crewe               1\n",
       "Burnley             1\n",
       "Blackpool           1\n",
       "Leicester           1\n",
       "Richmond            1\n",
       "Name: city, dtype: int64"
      ]
     },
     "execution_count": 62,
     "metadata": {},
     "output_type": "execute_result"
    }
   ],
   "source": [
    "# count England home game cites\n",
    "\n",
    "data_df_complete.query('home_team == \"England\" and neutral == False')['city'].value_counts()"
   ]
  },
  {
   "cell_type": "code",
   "execution_count": null,
   "metadata": {},
   "outputs": [],
   "source": []
  }
 ],
 "metadata": {
  "kernelspec": {
   "display_name": "Python 3",
   "language": "python",
   "name": "python3"
  },
  "language_info": {
   "codemirror_mode": {
    "name": "ipython",
    "version": 3
   },
   "file_extension": ".py",
   "mimetype": "text/x-python",
   "name": "python",
   "nbconvert_exporter": "python",
   "pygments_lexer": "ipython3",
   "version": "3.8.5"
  }
 },
 "nbformat": 4,
 "nbformat_minor": 4
}
